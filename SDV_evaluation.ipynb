{
 "cells": [
  {
   "cell_type": "code",
   "execution_count": 1,
   "metadata": {
    "collapsed": true
   },
   "outputs": [
    {
     "name": "stderr",
     "output_type": "stream",
     "text": [
      "/Users/shubov/PycharmProjects/gans/venv/lib/python3.9/site-packages/sdv/lite/tabular.py:116: FutureWarning: iteritems is deprecated and will be removed in a future version. Use .items instead.\n",
      "  for column, column_data in data.iteritems():\n"
     ]
    }
   ],
   "source": [
    "from sdv.demo import load_tabular_demo\n",
    "from sdv.lite import TabularPreset\n",
    "metadata_obj, real_data = load_tabular_demo('student_placements', metadata=True)\n",
    "model = TabularPreset(metadata=metadata_obj, name='FAST_ML')\n",
    "model.fit(real_data)\n",
    "synthetic_data = model.sample(num_rows=real_data.shape[0])"
   ]
  },
  {
   "cell_type": "code",
   "execution_count": 2,
   "outputs": [
    {
     "data": {
      "text/plain": "   student_id gender  second_perc  high_perc high_spec  degree_perc  \\\n0       17264      M        67.00      91.00  Commerce        58.00   \n1       17265      M        79.33      78.33   Science        77.48   \n2       17266      M        65.00      68.00      Arts        64.00   \n3       17267      M        56.00      52.00   Science        52.00   \n4       17268      M        85.80      73.60  Commerce        73.30   \n\n  degree_type  work_experience  experience_years  employability_perc mba_spec  \\\n0    Sci&Tech            False                 0                55.0   Mkt&HR   \n1    Sci&Tech             True                 1                86.5  Mkt&Fin   \n2   Comm&Mgmt            False                 0                75.0  Mkt&Fin   \n3    Sci&Tech            False                 0                66.0   Mkt&HR   \n4   Comm&Mgmt            False                 0                96.8  Mkt&Fin   \n\n   mba_perc   salary  placed start_date   end_date  duration  \n0     58.80  27000.0    True 2020-07-23 2020-10-12       3.0  \n1     66.28  20000.0    True 2020-01-11 2020-04-09       3.0  \n2     57.80  25000.0    True 2020-01-26 2020-07-13       6.0  \n3     59.43      NaN   False        NaT        NaT       NaN  \n4     55.50  42500.0    True 2020-07-04 2020-09-27       3.0  ",
      "text/html": "<div>\n<style scoped>\n    .dataframe tbody tr th:only-of-type {\n        vertical-align: middle;\n    }\n\n    .dataframe tbody tr th {\n        vertical-align: top;\n    }\n\n    .dataframe thead th {\n        text-align: right;\n    }\n</style>\n<table border=\"1\" class=\"dataframe\">\n  <thead>\n    <tr style=\"text-align: right;\">\n      <th></th>\n      <th>student_id</th>\n      <th>gender</th>\n      <th>second_perc</th>\n      <th>high_perc</th>\n      <th>high_spec</th>\n      <th>degree_perc</th>\n      <th>degree_type</th>\n      <th>work_experience</th>\n      <th>experience_years</th>\n      <th>employability_perc</th>\n      <th>mba_spec</th>\n      <th>mba_perc</th>\n      <th>salary</th>\n      <th>placed</th>\n      <th>start_date</th>\n      <th>end_date</th>\n      <th>duration</th>\n    </tr>\n  </thead>\n  <tbody>\n    <tr>\n      <th>0</th>\n      <td>17264</td>\n      <td>M</td>\n      <td>67.00</td>\n      <td>91.00</td>\n      <td>Commerce</td>\n      <td>58.00</td>\n      <td>Sci&amp;Tech</td>\n      <td>False</td>\n      <td>0</td>\n      <td>55.0</td>\n      <td>Mkt&amp;HR</td>\n      <td>58.80</td>\n      <td>27000.0</td>\n      <td>True</td>\n      <td>2020-07-23</td>\n      <td>2020-10-12</td>\n      <td>3.0</td>\n    </tr>\n    <tr>\n      <th>1</th>\n      <td>17265</td>\n      <td>M</td>\n      <td>79.33</td>\n      <td>78.33</td>\n      <td>Science</td>\n      <td>77.48</td>\n      <td>Sci&amp;Tech</td>\n      <td>True</td>\n      <td>1</td>\n      <td>86.5</td>\n      <td>Mkt&amp;Fin</td>\n      <td>66.28</td>\n      <td>20000.0</td>\n      <td>True</td>\n      <td>2020-01-11</td>\n      <td>2020-04-09</td>\n      <td>3.0</td>\n    </tr>\n    <tr>\n      <th>2</th>\n      <td>17266</td>\n      <td>M</td>\n      <td>65.00</td>\n      <td>68.00</td>\n      <td>Arts</td>\n      <td>64.00</td>\n      <td>Comm&amp;Mgmt</td>\n      <td>False</td>\n      <td>0</td>\n      <td>75.0</td>\n      <td>Mkt&amp;Fin</td>\n      <td>57.80</td>\n      <td>25000.0</td>\n      <td>True</td>\n      <td>2020-01-26</td>\n      <td>2020-07-13</td>\n      <td>6.0</td>\n    </tr>\n    <tr>\n      <th>3</th>\n      <td>17267</td>\n      <td>M</td>\n      <td>56.00</td>\n      <td>52.00</td>\n      <td>Science</td>\n      <td>52.00</td>\n      <td>Sci&amp;Tech</td>\n      <td>False</td>\n      <td>0</td>\n      <td>66.0</td>\n      <td>Mkt&amp;HR</td>\n      <td>59.43</td>\n      <td>NaN</td>\n      <td>False</td>\n      <td>NaT</td>\n      <td>NaT</td>\n      <td>NaN</td>\n    </tr>\n    <tr>\n      <th>4</th>\n      <td>17268</td>\n      <td>M</td>\n      <td>85.80</td>\n      <td>73.60</td>\n      <td>Commerce</td>\n      <td>73.30</td>\n      <td>Comm&amp;Mgmt</td>\n      <td>False</td>\n      <td>0</td>\n      <td>96.8</td>\n      <td>Mkt&amp;Fin</td>\n      <td>55.50</td>\n      <td>42500.0</td>\n      <td>True</td>\n      <td>2020-07-04</td>\n      <td>2020-09-27</td>\n      <td>3.0</td>\n    </tr>\n  </tbody>\n</table>\n</div>"
     },
     "execution_count": 2,
     "metadata": {},
     "output_type": "execute_result"
    }
   ],
   "source": [
    "real_data.head()"
   ],
   "metadata": {
    "collapsed": false
   }
  },
  {
   "cell_type": "code",
   "execution_count": 3,
   "outputs": [
    {
     "data": {
      "text/plain": "   student_id gender  second_perc  high_perc high_spec  degree_perc  \\\n0           0      F    60.679135  78.082359  Commerce    61.475876   \n1           1      F    66.957249  68.154874  Commerce    77.654136   \n2           2      F    64.493836  65.599060  Commerce    61.805710   \n3           3      F    77.294697  73.705387  Commerce    67.745672   \n4           4      M    65.645752  68.484205  Commerce    56.294576   \n\n  degree_type  work_experience  experience_years  employability_perc mba_spec  \\\n0   Comm&Mgmt            False                 0           60.463874  Mkt&Fin   \n1   Comm&Mgmt            False                 1           75.159890  Mkt&Fin   \n2   Comm&Mgmt             True                 0           71.015299   Mkt&HR   \n3   Comm&Mgmt             True                 1           84.984576   Mkt&HR   \n4   Comm&Mgmt            False                 0           82.951507  Mkt&Fin   \n\n    mba_perc   salary  placed start_date   end_date  duration  \n0  66.368724  25927.0   False        NaT 2020-01-27       3.0  \n1  65.425379  25389.0   False        NaT 2020-06-08       6.0  \n2  64.033295      NaN   False        NaT        NaT       6.0  \n3  65.190394      NaN    True        NaT 2020-06-07       3.0  \n4  60.231348  22905.0   False        NaT        NaT       NaN  ",
      "text/html": "<div>\n<style scoped>\n    .dataframe tbody tr th:only-of-type {\n        vertical-align: middle;\n    }\n\n    .dataframe tbody tr th {\n        vertical-align: top;\n    }\n\n    .dataframe thead th {\n        text-align: right;\n    }\n</style>\n<table border=\"1\" class=\"dataframe\">\n  <thead>\n    <tr style=\"text-align: right;\">\n      <th></th>\n      <th>student_id</th>\n      <th>gender</th>\n      <th>second_perc</th>\n      <th>high_perc</th>\n      <th>high_spec</th>\n      <th>degree_perc</th>\n      <th>degree_type</th>\n      <th>work_experience</th>\n      <th>experience_years</th>\n      <th>employability_perc</th>\n      <th>mba_spec</th>\n      <th>mba_perc</th>\n      <th>salary</th>\n      <th>placed</th>\n      <th>start_date</th>\n      <th>end_date</th>\n      <th>duration</th>\n    </tr>\n  </thead>\n  <tbody>\n    <tr>\n      <th>0</th>\n      <td>0</td>\n      <td>F</td>\n      <td>60.679135</td>\n      <td>78.082359</td>\n      <td>Commerce</td>\n      <td>61.475876</td>\n      <td>Comm&amp;Mgmt</td>\n      <td>False</td>\n      <td>0</td>\n      <td>60.463874</td>\n      <td>Mkt&amp;Fin</td>\n      <td>66.368724</td>\n      <td>25927.0</td>\n      <td>False</td>\n      <td>NaT</td>\n      <td>2020-01-27</td>\n      <td>3.0</td>\n    </tr>\n    <tr>\n      <th>1</th>\n      <td>1</td>\n      <td>F</td>\n      <td>66.957249</td>\n      <td>68.154874</td>\n      <td>Commerce</td>\n      <td>77.654136</td>\n      <td>Comm&amp;Mgmt</td>\n      <td>False</td>\n      <td>1</td>\n      <td>75.159890</td>\n      <td>Mkt&amp;Fin</td>\n      <td>65.425379</td>\n      <td>25389.0</td>\n      <td>False</td>\n      <td>NaT</td>\n      <td>2020-06-08</td>\n      <td>6.0</td>\n    </tr>\n    <tr>\n      <th>2</th>\n      <td>2</td>\n      <td>F</td>\n      <td>64.493836</td>\n      <td>65.599060</td>\n      <td>Commerce</td>\n      <td>61.805710</td>\n      <td>Comm&amp;Mgmt</td>\n      <td>True</td>\n      <td>0</td>\n      <td>71.015299</td>\n      <td>Mkt&amp;HR</td>\n      <td>64.033295</td>\n      <td>NaN</td>\n      <td>False</td>\n      <td>NaT</td>\n      <td>NaT</td>\n      <td>6.0</td>\n    </tr>\n    <tr>\n      <th>3</th>\n      <td>3</td>\n      <td>F</td>\n      <td>77.294697</td>\n      <td>73.705387</td>\n      <td>Commerce</td>\n      <td>67.745672</td>\n      <td>Comm&amp;Mgmt</td>\n      <td>True</td>\n      <td>1</td>\n      <td>84.984576</td>\n      <td>Mkt&amp;HR</td>\n      <td>65.190394</td>\n      <td>NaN</td>\n      <td>True</td>\n      <td>NaT</td>\n      <td>2020-06-07</td>\n      <td>3.0</td>\n    </tr>\n    <tr>\n      <th>4</th>\n      <td>4</td>\n      <td>M</td>\n      <td>65.645752</td>\n      <td>68.484205</td>\n      <td>Commerce</td>\n      <td>56.294576</td>\n      <td>Comm&amp;Mgmt</td>\n      <td>False</td>\n      <td>0</td>\n      <td>82.951507</td>\n      <td>Mkt&amp;Fin</td>\n      <td>60.231348</td>\n      <td>22905.0</td>\n      <td>False</td>\n      <td>NaT</td>\n      <td>NaT</td>\n      <td>NaN</td>\n    </tr>\n  </tbody>\n</table>\n</div>"
     },
     "execution_count": 3,
     "metadata": {},
     "output_type": "execute_result"
    }
   ],
   "source": [
    "synthetic_data.head()"
   ],
   "metadata": {
    "collapsed": false
   }
  },
  {
   "cell_type": "code",
   "execution_count": 4,
   "outputs": [],
   "source": [
    "metadata_dict = metadata_obj.to_dict()"
   ],
   "metadata": {
    "collapsed": false
   }
  },
  {
   "cell_type": "code",
   "execution_count": 12,
   "outputs": [
    {
     "name": "stderr",
     "output_type": "stream",
     "text": [
      "Creating report: 100%|██████████| 4/4 [00:00<00:00, 21.58it/s]\n"
     ]
    },
    {
     "name": "stdout",
     "output_type": "stream",
     "text": [
      "\n",
      "Overall Quality Score: 86.36%\n",
      "\n",
      "Properties:\n",
      "Column Shapes: 89.22%\n",
      "Column Pair Trends: 83.49%\n"
     ]
    }
   ],
   "source": [
    "from sdmetrics.reports.single_table import QualityReport\n",
    "report = QualityReport()\n",
    "report.generate(real_data, synthetic_data, metadata_dict)\n"
   ],
   "metadata": {
    "collapsed": false
   }
  },
  {
   "cell_type": "code",
   "execution_count": 13,
   "outputs": [
    {
     "data": {
      "text/plain": "0.8635582027180788"
     },
     "execution_count": 13,
     "metadata": {},
     "output_type": "execute_result"
    }
   ],
   "source": [
    "report.get_score()"
   ],
   "metadata": {
    "collapsed": false
   }
  },
  {
   "cell_type": "code",
   "execution_count": 7,
   "outputs": [
    {
     "data": {
      "text/plain": "                Column        Metric  Quality Score\n0          second_perc  KSComplement       0.944186\n1            high_perc  KSComplement       0.888372\n2          degree_perc  KSComplement       0.897674\n3     experience_years  KSComplement       0.925581\n4   employability_perc  KSComplement       0.874419\n5             mba_perc  KSComplement       0.911628\n6               salary  KSComplement       0.705673\n7           start_date  KSComplement       0.704673\n8             end_date  KSComplement       0.702320\n9               gender  TVComplement       0.944186\n10           high_spec  TVComplement       0.953488\n11         degree_type  TVComplement       0.953488\n12     work_experience  TVComplement       0.967442\n13            mba_spec  TVComplement       0.986047\n14              placed  TVComplement       0.939535\n15            duration  TVComplement       0.976792",
      "text/html": "<div>\n<style scoped>\n    .dataframe tbody tr th:only-of-type {\n        vertical-align: middle;\n    }\n\n    .dataframe tbody tr th {\n        vertical-align: top;\n    }\n\n    .dataframe thead th {\n        text-align: right;\n    }\n</style>\n<table border=\"1\" class=\"dataframe\">\n  <thead>\n    <tr style=\"text-align: right;\">\n      <th></th>\n      <th>Column</th>\n      <th>Metric</th>\n      <th>Quality Score</th>\n    </tr>\n  </thead>\n  <tbody>\n    <tr>\n      <th>0</th>\n      <td>second_perc</td>\n      <td>KSComplement</td>\n      <td>0.944186</td>\n    </tr>\n    <tr>\n      <th>1</th>\n      <td>high_perc</td>\n      <td>KSComplement</td>\n      <td>0.888372</td>\n    </tr>\n    <tr>\n      <th>2</th>\n      <td>degree_perc</td>\n      <td>KSComplement</td>\n      <td>0.897674</td>\n    </tr>\n    <tr>\n      <th>3</th>\n      <td>experience_years</td>\n      <td>KSComplement</td>\n      <td>0.925581</td>\n    </tr>\n    <tr>\n      <th>4</th>\n      <td>employability_perc</td>\n      <td>KSComplement</td>\n      <td>0.874419</td>\n    </tr>\n    <tr>\n      <th>5</th>\n      <td>mba_perc</td>\n      <td>KSComplement</td>\n      <td>0.911628</td>\n    </tr>\n    <tr>\n      <th>6</th>\n      <td>salary</td>\n      <td>KSComplement</td>\n      <td>0.705673</td>\n    </tr>\n    <tr>\n      <th>7</th>\n      <td>start_date</td>\n      <td>KSComplement</td>\n      <td>0.704673</td>\n    </tr>\n    <tr>\n      <th>8</th>\n      <td>end_date</td>\n      <td>KSComplement</td>\n      <td>0.702320</td>\n    </tr>\n    <tr>\n      <th>9</th>\n      <td>gender</td>\n      <td>TVComplement</td>\n      <td>0.944186</td>\n    </tr>\n    <tr>\n      <th>10</th>\n      <td>high_spec</td>\n      <td>TVComplement</td>\n      <td>0.953488</td>\n    </tr>\n    <tr>\n      <th>11</th>\n      <td>degree_type</td>\n      <td>TVComplement</td>\n      <td>0.953488</td>\n    </tr>\n    <tr>\n      <th>12</th>\n      <td>work_experience</td>\n      <td>TVComplement</td>\n      <td>0.967442</td>\n    </tr>\n    <tr>\n      <th>13</th>\n      <td>mba_spec</td>\n      <td>TVComplement</td>\n      <td>0.986047</td>\n    </tr>\n    <tr>\n      <th>14</th>\n      <td>placed</td>\n      <td>TVComplement</td>\n      <td>0.939535</td>\n    </tr>\n    <tr>\n      <th>15</th>\n      <td>duration</td>\n      <td>TVComplement</td>\n      <td>0.976792</td>\n    </tr>\n  </tbody>\n</table>\n</div>"
     },
     "execution_count": 7,
     "metadata": {},
     "output_type": "execute_result"
    }
   ],
   "source": [
    "report.get_details(property_name='Column Shapes')"
   ],
   "metadata": {
    "collapsed": false
   }
  },
  {
   "cell_type": "code",
   "execution_count": 9,
   "outputs": [
    {
     "data": {
      "text/plain": "1.0"
     },
     "execution_count": 9,
     "metadata": {},
     "output_type": "execute_result"
    }
   ],
   "source": [
    "from sdmetrics.single_table import NewRowSynthesis\n",
    "NewRowSynthesis.compute(real_data, synthetic_data)"
   ],
   "metadata": {
    "collapsed": false
   }
  },
  {
   "cell_type": "code",
   "execution_count": 8,
   "outputs": [
    {
     "data": {
      "text/plain": "{'fields': {'start_date': {'type': 'datetime', 'format': '%Y-%m-%d'},\n  'end_date': {'type': 'datetime', 'format': '%Y-%m-%d'},\n  'salary': {'type': 'numerical', 'subtype': 'integer'},\n  'duration': {'type': 'categorical'},\n  'student_id': {'type': 'id', 'subtype': 'integer'},\n  'high_perc': {'type': 'numerical', 'subtype': 'float'},\n  'high_spec': {'type': 'categorical'},\n  'mba_spec': {'type': 'categorical'},\n  'second_perc': {'type': 'numerical', 'subtype': 'float'},\n  'gender': {'type': 'categorical'},\n  'degree_perc': {'type': 'numerical', 'subtype': 'float'},\n  'placed': {'type': 'boolean'},\n  'experience_years': {'type': 'numerical', 'subtype': 'integer'},\n  'employability_perc': {'type': 'numerical', 'subtype': 'float'},\n  'mba_perc': {'type': 'numerical', 'subtype': 'float'},\n  'work_experience': {'type': 'boolean'},\n  'degree_type': {'type': 'categorical'}},\n 'constraints': [],\n 'model_kwargs': {},\n 'name': None,\n 'primary_key': 'student_id',\n 'sequence_index': None,\n 'entity_columns': [],\n 'context_columns': []}"
     },
     "execution_count": 8,
     "metadata": {},
     "output_type": "execute_result"
    }
   ],
   "source": [
    "metadata_dict"
   ],
   "metadata": {
    "collapsed": false
   }
  }
 ],
 "metadata": {
  "kernelspec": {
   "display_name": "Python 3",
   "language": "python",
   "name": "python3"
  },
  "language_info": {
   "codemirror_mode": {
    "name": "ipython",
    "version": 2
   },
   "file_extension": ".py",
   "mimetype": "text/x-python",
   "name": "python",
   "nbconvert_exporter": "python",
   "pygments_lexer": "ipython2",
   "version": "2.7.6"
  }
 },
 "nbformat": 4,
 "nbformat_minor": 0
}
